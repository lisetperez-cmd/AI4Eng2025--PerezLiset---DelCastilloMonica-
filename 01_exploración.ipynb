{
  "nbformat": 4,
  "nbformat_minor": 0,
  "metadata": {
    "colab": {
      "provenance": []
    },
    "kernelspec": {
      "name": "python3",
      "display_name": "Python 3"
    },
    "language_info": {
      "name": "python"
    }
  },
  "cells": [
    {
      "cell_type": "code",
      "execution_count": null,
      "metadata": {
        "id": "rSK7cibKVwtz",
        "colab": {
          "base_uri": "https://localhost:8080/"
        },
        "outputId": "ba230193-89f7-46e9-9817-75176430eb59"
      },
      "outputs": [
        {
          "output_type": "stream",
          "name": "stdout",
          "text": [
            "<class 'pandas.core.frame.DataFrame'>\n",
            "RangeIndex: 11926272 entries, 0 to 11926271\n",
            "Data columns (total 4 columns):\n",
            " #   Column         Dtype  \n",
            "---  ------         -----  \n",
            " 0   building_id    int64  \n",
            " 1   meter          int64  \n",
            " 2   timestamp      object \n",
            " 3   meter_reading  float64\n",
            "dtypes: float64(1), int64(2), object(1)\n",
            "memory usage: 364.0+ MB\n"
          ]
        },
        {
          "output_type": "execute_result",
          "data": {
            "text/plain": [
              "array([[<Axes: title={'center': 'building_id'}>,\n",
              "        <Axes: title={'center': 'meter'}>],\n",
              "       [<Axes: title={'center': 'meter_reading'}>, <Axes: >]],\n",
              "      dtype=object)"
            ]
          },
          "metadata": {},
          "execution_count": 6
        }
      ],
      "source": [
        "# Entrega 1 – Exploración de Datos\n",
        "#Competencia AI4Eng 2025\n",
        "#Integrante: Liset Pérez - Monica Del Castillo\n",
        "#Programa: Ingenieria industrial\n",
        "\n",
        "import pandas as pd\n",
        "import numpy as np\n",
        "import matplotlib.pyplot as plt\n",
        "import seaborn as sns\n",
        "\n",
        "df = pd.read_csv('train.csv')\n",
        "df.shape, df.head()\n",
        "\n",
        "df.info()\n",
        "df.describe(include='all').T\n",
        "df.isna().sum().sort_values(ascending=False)\n",
        "\n",
        "sns.heatmap(df.isna(), cbar=False)\n",
        "df.hist(figsize=(12,10))\n",
        "\n",
        "\n"
      ]
    },
    {
      "cell_type": "code",
      "source": [],
      "metadata": {
        "id": "JIzAfJNgXipb"
      },
      "execution_count": null,
      "outputs": []
    }
  ]
}